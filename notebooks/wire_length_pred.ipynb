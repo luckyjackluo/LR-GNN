{
 "cells": [
  {
   "cell_type": "code",
   "execution_count": 156,
   "id": "c28e582a",
   "metadata": {},
   "outputs": [],
   "source": [
    "import torch\n",
    "import torch.nn.functional as F\n",
    "from torch import nn\n",
    "from torch.nn import BatchNorm1d, ReLU, Linear, Sequential\n",
    "import numpy as np\n",
    "from torch_geometric.data import Data\n",
    "from torch_geometric.nn import GCNConv, global_mean_pool, GATConv, GINConv, global_add_pool, SAGEConv, to_hetero, HeteroConv, GraphConv\n",
    "import os\n",
    "from torch.utils.data import DataLoader\n",
    "from torch_geometric.data import InMemoryDataset, download_url, HeteroData\n",
    "import networkx as nx\n",
    "from sklearn.preprocessing import OrdinalEncoder\n",
    "from sklearn.preprocessing import OneHotEncoder\n",
    "from sklearn.model_selection import KFold\n",
    "\n",
    "from sklearn.preprocessing import StandardScaler\n",
    "\n",
    "import matplotlib.pyplot as plt"
   ]
  },
  {
   "cell_type": "code",
   "execution_count": 150,
   "id": "1069fc0b",
   "metadata": {},
   "outputs": [],
   "source": [
    "data = HeteroData()\n",
    "data['inst'].x = torch.FloatTensor(np.load(\"/home/zluo/nn/GNN/to_gnn/train_inst_X.npy\"))\n",
    "data['net'].x = torch.FloatTensor(np.load(\"/home/zluo/nn/GNN/to_gnn/train_net_X.npy\").reshape(-1, 1))\n",
    "data['net'].y = torch.FloatTensor(np.load(\"/home/zluo/nn/GNN/to_gnn/net_Y.npy\").reshape(-1, 1))\n",
    "data['inst', 'to', 'net'].edge_index  =  torch.LongTensor(np.load(\"/home/zluo/nn/GNN/to_gnn/edgs_inst_to_net.npy\").T)\n",
    "data['net', 'to', 'inst'].edge_index  =  torch.LongTensor(np.load(\"/home/zluo/nn/GNN/to_gnn/edgs_net_to_inst.npy\").T)\n",
    "data['inst', 'to', 'inst'].edge_index  = torch.LongTensor(np.load(\"/home/zluo/nn/GNN/to_gnn/edge_index_train_inst.npy\").T)"
   ]
  },
  {
   "cell_type": "code",
   "execution_count": 165,
   "id": "bc004207",
   "metadata": {
    "scrolled": false
   },
   "outputs": [
    {
     "data": {
      "text/plain": [
       "Data(x=[51442, 3], edge_index=[2, 81176], y=[51442, 1])"
      ]
     },
     "execution_count": 165,
     "metadata": {},
     "output_type": "execute_result"
    }
   ],
   "source": [
    "data"
   ]
  },
  {
   "cell_type": "code",
   "execution_count": 157,
   "id": "7bbdcc70",
   "metadata": {},
   "outputs": [],
   "source": [
    "data = Data(x=torch.FloatTensor(np.load(\"/home/zluo/nn/GNN/to_gnn/train_inst_X.npy\")), edge_index=torch.LongTensor(np.load(\"/home/zluo/nn/GNN/to_gnn/edge_index_train_inst.npy\").T), y=torch.FloatTensor(np.load(\"/home/zluo/nn/GNN/to_gnn/net_Y.npy\").reshape(-1, 1)))"
   ]
  },
  {
   "cell_type": "code",
   "execution_count": 158,
   "id": "9a6110ae",
   "metadata": {},
   "outputs": [],
   "source": [
    "class HeteroGNN(torch.nn.Module):\n",
    "    def __init__(self, hidden_channels, out_channels, num_layers):\n",
    "        super().__init__()\n",
    "\n",
    "        self.convs = torch.nn.ModuleList()\n",
    "        for _ in range(num_layers):\n",
    "            conv = HeteroConv({\n",
    "                ('inst', 'to', 'net'): GATConv((-1, -1), hidden_channels, add_self_loops=False, dropout=0.6),\n",
    "                ('net', 'to', 'inst'): GATConv((-1, -1), hidden_channels, add_self_loops=False, dropout=0.6),\n",
    "            }, aggr='sum')\n",
    "            self.convs.append(conv)\n",
    "\n",
    "        self.lin1 = Linear(hidden_channels, out_channels)\n",
    "        self.lin2 = Linear(out_channels, 1)\n",
    "\n",
    "    def forward(self, x_dict, edge_index_dict):\n",
    "        for conv in self.convs:\n",
    "            x_dict = conv(x_dict, edge_index_dict)\n",
    "            x_dict = {key: x.relu() for key, x in x_dict.items()}\n",
    "            \n",
    "        x = F.relu(self.lin1(x_dict['net']))\n",
    "        x = self.lin2(x)\n",
    "        \n",
    "        return x"
   ]
  },
  {
   "cell_type": "code",
   "execution_count": 163,
   "id": "7a000275",
   "metadata": {},
   "outputs": [],
   "source": [
    "class GNN(torch.nn.Module):\n",
    "    def __init__(self, hidden_channels):\n",
    "        super(GNN, self).__init__()\n",
    "        self.conv1 = GATConv(-1, hidden_channels)\n",
    "        self.conv2 = GATConv(hidden_channels, hidden_channels)\n",
    "        self.fc1 = nn.Linear(hidden_channels, 20)\n",
    "        self.fc2 = nn.Linear(20, 1)\n",
    "\n",
    "    def forward(self, x, edge_index):\n",
    "        x = self.conv1(x, edge_index)\n",
    "        x = F.elu(x)\n",
    "        x = self.conv2(x, edge_index)\n",
    "        \n",
    "        x = F.relu(self.fc1(x))\n",
    "        x = self.fc2(x)\n",
    "        \n",
    "        return x"
   ]
  },
  {
   "cell_type": "code",
   "execution_count": 154,
   "id": "8916e204",
   "metadata": {},
   "outputs": [],
   "source": [
    "model = HeteroGNN(hidden_channels=16, out_channels=10, num_layers=3)\n",
    "optimizer = torch.optim.Adam(model.parameters(), lr=0.001)\n",
    "criterion = torch.nn.MSELoss()"
   ]
  },
  {
   "cell_type": "code",
   "execution_count": 166,
   "id": "a7d8f94c",
   "metadata": {},
   "outputs": [],
   "source": [
    "model = GNN(hidden_channels=16)\n",
    "optimizer = torch.optim.Adam(model.parameters(), lr=0.001)\n",
    "criterion = torch.nn.MSELoss()"
   ]
  },
  {
   "cell_type": "code",
   "execution_count": 162,
   "id": "c10e8f62",
   "metadata": {
    "scrolled": true
   },
   "outputs": [
    {
     "ename": "AttributeError",
     "evalue": "'GlobalStorage' object has no attribute 'x_dict'",
     "output_type": "error",
     "traceback": [
      "\u001b[0;31m---------------------------------------------------------------------------\u001b[0m",
      "\u001b[0;31mKeyError\u001b[0m                                  Traceback (most recent call last)",
      "\u001b[0;32m~/anaconda3/lib/python3.9/site-packages/torch_geometric/data/storage.py\u001b[0m in \u001b[0;36m__getattr__\u001b[0;34m(self, key)\u001b[0m\n\u001b[1;32m     60\u001b[0m         \u001b[0;32mtry\u001b[0m\u001b[0;34m:\u001b[0m\u001b[0;34m\u001b[0m\u001b[0;34m\u001b[0m\u001b[0m\n\u001b[0;32m---> 61\u001b[0;31m             \u001b[0;32mreturn\u001b[0m \u001b[0mself\u001b[0m\u001b[0;34m[\u001b[0m\u001b[0mkey\u001b[0m\u001b[0;34m]\u001b[0m\u001b[0;34m\u001b[0m\u001b[0;34m\u001b[0m\u001b[0m\n\u001b[0m\u001b[1;32m     62\u001b[0m         \u001b[0;32mexcept\u001b[0m \u001b[0mKeyError\u001b[0m\u001b[0;34m:\u001b[0m\u001b[0;34m\u001b[0m\u001b[0;34m\u001b[0m\u001b[0m\n",
      "\u001b[0;32m~/anaconda3/lib/python3.9/site-packages/torch_geometric/data/storage.py\u001b[0m in \u001b[0;36m__getitem__\u001b[0;34m(self, key)\u001b[0m\n\u001b[1;32m     80\u001b[0m     \u001b[0;32mdef\u001b[0m \u001b[0m__getitem__\u001b[0m\u001b[0;34m(\u001b[0m\u001b[0mself\u001b[0m\u001b[0;34m,\u001b[0m \u001b[0mkey\u001b[0m\u001b[0;34m:\u001b[0m \u001b[0mstr\u001b[0m\u001b[0;34m)\u001b[0m \u001b[0;34m->\u001b[0m \u001b[0mAny\u001b[0m\u001b[0;34m:\u001b[0m\u001b[0;34m\u001b[0m\u001b[0;34m\u001b[0m\u001b[0m\n\u001b[0;32m---> 81\u001b[0;31m         \u001b[0;32mreturn\u001b[0m \u001b[0mself\u001b[0m\u001b[0;34m.\u001b[0m\u001b[0m_mapping\u001b[0m\u001b[0;34m[\u001b[0m\u001b[0mkey\u001b[0m\u001b[0;34m]\u001b[0m\u001b[0;34m\u001b[0m\u001b[0;34m\u001b[0m\u001b[0m\n\u001b[0m\u001b[1;32m     82\u001b[0m \u001b[0;34m\u001b[0m\u001b[0m\n",
      "\u001b[0;31mKeyError\u001b[0m: 'x_dict'",
      "\nDuring handling of the above exception, another exception occurred:\n",
      "\u001b[0;31mAttributeError\u001b[0m                            Traceback (most recent call last)",
      "\u001b[0;32m/tmp/ipykernel_2611727/3095076709.py\u001b[0m in \u001b[0;36m<module>\u001b[0;34m\u001b[0m\n\u001b[1;32m      1\u001b[0m \u001b[0;32mfor\u001b[0m \u001b[0mepoch\u001b[0m \u001b[0;32min\u001b[0m \u001b[0mrange\u001b[0m\u001b[0;34m(\u001b[0m\u001b[0;36m100\u001b[0m\u001b[0;34m)\u001b[0m\u001b[0;34m:\u001b[0m\u001b[0;34m\u001b[0m\u001b[0;34m\u001b[0m\u001b[0m\n\u001b[1;32m      2\u001b[0m     \u001b[0mmodel\u001b[0m\u001b[0;34m.\u001b[0m\u001b[0mtrain\u001b[0m\u001b[0;34m(\u001b[0m\u001b[0;34m)\u001b[0m\u001b[0;34m\u001b[0m\u001b[0;34m\u001b[0m\u001b[0m\n\u001b[0;32m----> 3\u001b[0;31m     \u001b[0mout\u001b[0m \u001b[0;34m=\u001b[0m \u001b[0mmodel\u001b[0m\u001b[0;34m(\u001b[0m\u001b[0mdata\u001b[0m\u001b[0;34m.\u001b[0m\u001b[0mx_dict\u001b[0m\u001b[0;34m,\u001b[0m \u001b[0mdata\u001b[0m\u001b[0;34m.\u001b[0m\u001b[0medge_index_dict\u001b[0m\u001b[0;34m)\u001b[0m\u001b[0;34m\u001b[0m\u001b[0;34m\u001b[0m\u001b[0m\n\u001b[0m\u001b[1;32m      4\u001b[0m     \u001b[0mloss\u001b[0m \u001b[0;34m=\u001b[0m \u001b[0mcriterion\u001b[0m\u001b[0;34m(\u001b[0m\u001b[0mout\u001b[0m\u001b[0;34m,\u001b[0m \u001b[0mdata\u001b[0m\u001b[0;34m[\u001b[0m\u001b[0;34m'net'\u001b[0m\u001b[0;34m]\u001b[0m\u001b[0;34m.\u001b[0m\u001b[0my\u001b[0m\u001b[0;34m)\u001b[0m\u001b[0;34m\u001b[0m\u001b[0;34m\u001b[0m\u001b[0m\n\u001b[1;32m      5\u001b[0m     \u001b[0mloss\u001b[0m\u001b[0;34m.\u001b[0m\u001b[0mbackward\u001b[0m\u001b[0;34m(\u001b[0m\u001b[0;34m)\u001b[0m\u001b[0;34m\u001b[0m\u001b[0;34m\u001b[0m\u001b[0m\n",
      "\u001b[0;32m~/anaconda3/lib/python3.9/site-packages/torch_geometric/data/data.py\u001b[0m in \u001b[0;36m__getattr__\u001b[0;34m(self, key)\u001b[0m\n\u001b[1;32m    426\u001b[0m                 \u001b[0;34m\"dataset, remove the 'processed/' directory in the dataset's \"\u001b[0m\u001b[0;34m\u001b[0m\u001b[0;34m\u001b[0m\u001b[0m\n\u001b[1;32m    427\u001b[0m                 \"root folder and try again.\")\n\u001b[0;32m--> 428\u001b[0;31m         \u001b[0;32mreturn\u001b[0m \u001b[0mgetattr\u001b[0m\u001b[0;34m(\u001b[0m\u001b[0mself\u001b[0m\u001b[0;34m.\u001b[0m\u001b[0m_store\u001b[0m\u001b[0;34m,\u001b[0m \u001b[0mkey\u001b[0m\u001b[0;34m)\u001b[0m\u001b[0;34m\u001b[0m\u001b[0;34m\u001b[0m\u001b[0m\n\u001b[0m\u001b[1;32m    429\u001b[0m \u001b[0;34m\u001b[0m\u001b[0m\n\u001b[1;32m    430\u001b[0m     \u001b[0;32mdef\u001b[0m \u001b[0m__setattr__\u001b[0m\u001b[0;34m(\u001b[0m\u001b[0mself\u001b[0m\u001b[0;34m,\u001b[0m \u001b[0mkey\u001b[0m\u001b[0;34m:\u001b[0m \u001b[0mstr\u001b[0m\u001b[0;34m,\u001b[0m \u001b[0mvalue\u001b[0m\u001b[0;34m:\u001b[0m \u001b[0mAny\u001b[0m\u001b[0;34m)\u001b[0m\u001b[0;34m:\u001b[0m\u001b[0;34m\u001b[0m\u001b[0;34m\u001b[0m\u001b[0m\n",
      "\u001b[0;32m~/anaconda3/lib/python3.9/site-packages/torch_geometric/data/storage.py\u001b[0m in \u001b[0;36m__getattr__\u001b[0;34m(self, key)\u001b[0m\n\u001b[1;32m     61\u001b[0m             \u001b[0;32mreturn\u001b[0m \u001b[0mself\u001b[0m\u001b[0;34m[\u001b[0m\u001b[0mkey\u001b[0m\u001b[0;34m]\u001b[0m\u001b[0;34m\u001b[0m\u001b[0;34m\u001b[0m\u001b[0m\n\u001b[1;32m     62\u001b[0m         \u001b[0;32mexcept\u001b[0m \u001b[0mKeyError\u001b[0m\u001b[0;34m:\u001b[0m\u001b[0;34m\u001b[0m\u001b[0;34m\u001b[0m\u001b[0m\n\u001b[0;32m---> 63\u001b[0;31m             raise AttributeError(\n\u001b[0m\u001b[1;32m     64\u001b[0m                 f\"'{self.__class__.__name__}' object has no attribute '{key}'\")\n\u001b[1;32m     65\u001b[0m \u001b[0;34m\u001b[0m\u001b[0m\n",
      "\u001b[0;31mAttributeError\u001b[0m: 'GlobalStorage' object has no attribute 'x_dict'"
     ]
    }
   ],
   "source": [
    "for epoch in range(100):\n",
    "    model.train()\n",
    "    out = model(data.x_dict, data.edge_index_dict)\n",
    "    loss = criterion(out, data['net'].y)\n",
    "    loss.backward()\n",
    "    optimizer.step()\n",
    "    print(float(loss))"
   ]
  },
  {
   "cell_type": "code",
   "execution_count": 169,
   "id": "09ddc2d5",
   "metadata": {
    "scrolled": true
   },
   "outputs": [
    {
     "name": "stdout",
     "output_type": "stream",
     "text": [
      "3541.18701171875\n",
      "3541.06689453125\n",
      "3540.937255859375\n",
      "3540.800048828125\n",
      "3540.656005859375\n",
      "3540.506103515625\n",
      "3540.35400390625\n",
      "3540.196044921875\n",
      "3540.037841796875\n",
      "3539.8779296875\n",
      "3539.718017578125\n",
      "3539.558837890625\n",
      "3539.40234375\n",
      "3539.249755859375\n",
      "3539.1005859375\n",
      "3538.9599609375\n",
      "3538.8271484375\n",
      "3538.702880859375\n",
      "3538.59033203125\n",
      "3538.489501953125\n",
      "3538.404052734375\n",
      "3538.335205078125\n",
      "3538.281982421875\n",
      "3538.249755859375\n",
      "3538.23681640625\n",
      "3538.2470703125\n",
      "3538.28173828125\n",
      "3538.33935546875\n",
      "3538.4248046875\n",
      "3538.535888671875\n",
      "3538.676025390625\n",
      "3538.843994140625\n",
      "3539.04052734375\n",
      "3539.26416015625\n",
      "3539.51318359375\n",
      "3539.787353515625\n",
      "3540.0830078125\n",
      "3540.3974609375\n",
      "3540.72509765625\n",
      "3541.063232421875\n",
      "3541.400390625\n",
      "3541.734130859375\n",
      "3542.056396484375\n",
      "3542.35888671875\n",
      "3542.636962890625\n",
      "3542.884765625\n",
      "3543.09716796875\n",
      "3543.26806640625\n",
      "3543.39794921875\n",
      "3543.48095703125\n",
      "3543.517333984375\n",
      "3543.505859375\n",
      "3543.44921875\n",
      "3543.34716796875\n",
      "3543.203125\n",
      "3543.02001953125\n",
      "3542.80224609375\n",
      "3542.55224609375\n",
      "3542.2763671875\n",
      "3541.97900390625\n",
      "3541.664794921875\n",
      "3541.340576171875\n",
      "3541.010498046875\n",
      "3540.6806640625\n",
      "3540.355712890625\n",
      "3540.04150390625\n",
      "3539.738525390625\n",
      "3539.453369140625\n",
      "3539.18798828125\n",
      "3538.94580078125\n",
      "3538.73095703125\n",
      "3538.5419921875\n",
      "3538.384765625\n",
      "3538.2568359375\n",
      "3538.159912109375\n",
      "3538.095458984375\n",
      "3538.062744140625\n",
      "3538.060546875\n",
      "3538.089111328125\n",
      "3538.14599609375\n",
      "3538.2333984375\n",
      "3538.34619140625\n",
      "3538.484130859375\n",
      "3538.645263671875\n",
      "3538.826904296875\n",
      "3539.02978515625\n",
      "3539.248046875\n",
      "3539.48046875\n",
      "3539.7255859375\n",
      "3539.9814453125\n",
      "3540.244873046875\n",
      "3540.513671875\n",
      "3540.786376953125\n",
      "3541.05859375\n",
      "3541.330810546875\n",
      "3541.596435546875\n",
      "3541.85546875\n",
      "3542.105712890625\n",
      "3542.344970703125\n",
      "3542.5703125\n"
     ]
    }
   ],
   "source": [
    "for epoch in range(100):\n",
    "    model.train()\n",
    "    out = model(data.x, data.edge_index)\n",
    "    loss = criterion(out, data.y)\n",
    "    loss.backward()\n",
    "    optimizer.step()\n",
    "    print(float(loss))"
   ]
  },
  {
   "cell_type": "code",
   "execution_count": 170,
   "id": "b1a0c059",
   "metadata": {},
   "outputs": [
    {
     "data": {
      "text/plain": [
       "tensor([[-0.5945, -0.0308, -0.9162],\n",
       "        [ 1.4626, -0.0842, -0.9435],\n",
       "        [-0.5945, -0.0308, -0.9162],\n",
       "        ...,\n",
       "        [ 0.4340, -0.0308, -0.1063],\n",
       "        [-0.5945,  0.9293, -0.1882],\n",
       "        [-0.5945,  0.0758, -0.9435]])"
      ]
     },
     "execution_count": 170,
     "metadata": {},
     "output_type": "execute_result"
    }
   ],
   "source": [
    "data.x"
   ]
  },
  {
   "cell_type": "code",
   "execution_count": 174,
   "id": "a5bbf0ef",
   "metadata": {},
   "outputs": [
    {
     "data": {
      "text/plain": [
       "tensor([[3.3588e+01],\n",
       "        [5.0400e-01],\n",
       "        [2.9750e+01],\n",
       "        [1.3680e+00],\n",
       "        [3.4332e+01],\n",
       "        [1.7280e+00],\n",
       "        [4.1209e+01],\n",
       "        [5.7600e-01],\n",
       "        [3.2329e+01],\n",
       "        [5.0400e-01],\n",
       "        [4.1655e+01],\n",
       "        [3.0240e+00],\n",
       "        [1.0046e+01],\n",
       "        [2.0880e+00],\n",
       "        [5.1107e+01],\n",
       "        [1.2960e+00],\n",
       "        [3.3337e+01],\n",
       "        [3.6720e+00],\n",
       "        [3.6062e+01],\n",
       "        [1.2960e+00],\n",
       "        [4.2468e+01],\n",
       "        [5.0400e-01],\n",
       "        [1.3426e+04],\n",
       "        [5.3280e+00],\n",
       "        [3.2041e+01],\n",
       "        [4.4065e+01],\n",
       "        [2.6052e+01],\n",
       "        [3.2412e+01],\n",
       "        [4.3116e+01],\n",
       "        [3.3481e+01],\n",
       "        [3.7033e+01],\n",
       "        [4.7520e+01],\n",
       "        [3.0516e+01],\n",
       "        [1.8720e+00],\n",
       "        [3.0240e+00],\n",
       "        [1.2240e+00],\n",
       "        [3.4560e+00],\n",
       "        [4.6800e+00],\n",
       "        [1.0080e+00],\n",
       "        [9.3600e-01],\n",
       "        [4.1040e+00],\n",
       "        [2.7360e+00],\n",
       "        [2.5920e+00],\n",
       "        [1.1088e+01],\n",
       "        [2.7360e+00],\n",
       "        [2.6640e+00],\n",
       "        [2.2320e+00],\n",
       "        [2.7360e+00],\n",
       "        [2.2320e+00],\n",
       "        [3.9600e+00]])"
      ]
     },
     "execution_count": 174,
     "metadata": {},
     "output_type": "execute_result"
    }
   ],
   "source": [
    "data.y[:50]"
   ]
  },
  {
   "cell_type": "code",
   "execution_count": 175,
   "id": "1bb15e2c",
   "metadata": {},
   "outputs": [
    {
     "data": {
      "text/plain": [
       "tensor([[1.7586],\n",
       "        [1.9927],\n",
       "        [1.7586],\n",
       "        [1.9927],\n",
       "        [1.7586],\n",
       "        [1.9927],\n",
       "        [1.7586],\n",
       "        [1.9927],\n",
       "        [1.7586],\n",
       "        [1.9927],\n",
       "        [1.7586],\n",
       "        [1.9927],\n",
       "        [1.7586],\n",
       "        [1.9927],\n",
       "        [1.7586],\n",
       "        [1.9927],\n",
       "        [1.7586],\n",
       "        [1.9927],\n",
       "        [1.7586],\n",
       "        [1.9927],\n",
       "        [1.7586],\n",
       "        [1.9927],\n",
       "        [1.5632],\n",
       "        [1.7581],\n",
       "        [1.7586],\n",
       "        [1.7586],\n",
       "        [1.7586],\n",
       "        [1.7586],\n",
       "        [1.7586],\n",
       "        [1.7586],\n",
       "        [1.7586],\n",
       "        [1.7586],\n",
       "        [1.7484],\n",
       "        [1.7581],\n",
       "        [1.7582],\n",
       "        [1.7586],\n",
       "        [1.7586],\n",
       "        [1.7586],\n",
       "        [1.7586],\n",
       "        [1.7586],\n",
       "        [1.7586],\n",
       "        [1.7586],\n",
       "        [1.7586],\n",
       "        [1.6987],\n",
       "        [1.7582],\n",
       "        [1.7586],\n",
       "        [1.7586],\n",
       "        [1.7586],\n",
       "        [1.7586],\n",
       "        [1.7586],\n",
       "        [1.7586],\n",
       "        [1.7586],\n",
       "        [1.7586],\n",
       "        [1.7586],\n",
       "        [1.7586],\n",
       "        [1.7586],\n",
       "        [1.7586],\n",
       "        [1.7586],\n",
       "        [1.7583],\n",
       "        [1.7586],\n",
       "        [1.7586],\n",
       "        [1.7586],\n",
       "        [1.7586],\n",
       "        [1.7586],\n",
       "        [1.7586],\n",
       "        [1.7586],\n",
       "        [1.7586],\n",
       "        [1.6988],\n",
       "        [1.7583],\n",
       "        [1.7586],\n",
       "        [1.7586],\n",
       "        [1.7586],\n",
       "        [1.7586],\n",
       "        [1.7586],\n",
       "        [1.7586],\n",
       "        [1.7586],\n",
       "        [1.7586],\n",
       "        [1.7586],\n",
       "        [1.7586],\n",
       "        [1.7586],\n",
       "        [1.7586],\n",
       "        [1.7586],\n",
       "        [1.7583],\n",
       "        [1.7586],\n",
       "        [1.7586],\n",
       "        [1.7586],\n",
       "        [1.7586],\n",
       "        [1.7586],\n",
       "        [1.7586],\n",
       "        [1.7586],\n",
       "        [1.7586],\n",
       "        [1.7583],\n",
       "        [1.7583],\n",
       "        [1.7586],\n",
       "        [1.7584],\n",
       "        [1.7586],\n",
       "        [1.7586],\n",
       "        [1.7586],\n",
       "        [1.7586],\n",
       "        [1.7586]], grad_fn=<SliceBackward0>)"
      ]
     },
     "execution_count": 175,
     "metadata": {},
     "output_type": "execute_result"
    }
   ],
   "source": [
    "out[:100]"
   ]
  },
  {
   "cell_type": "code",
   "execution_count": null,
   "id": "657f3fcc",
   "metadata": {},
   "outputs": [],
   "source": []
  }
 ],
 "metadata": {
  "kernelspec": {
   "display_name": "Python 3 (ipykernel)",
   "language": "python",
   "name": "python3"
  },
  "language_info": {
   "codemirror_mode": {
    "name": "ipython",
    "version": 3
   },
   "file_extension": ".py",
   "mimetype": "text/x-python",
   "name": "python",
   "nbconvert_exporter": "python",
   "pygments_lexer": "ipython3",
   "version": "3.9.7"
  }
 },
 "nbformat": 4,
 "nbformat_minor": 5
}
